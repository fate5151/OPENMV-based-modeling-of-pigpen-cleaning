{
 "cells": [
  {
   "cell_type": "code",
   "execution_count": 18,
   "metadata": {},
   "outputs": [],
   "source": [
    "import cv2 #opencv读取的格式是BGR\n",
    "import matplotlib.pyplot as plt\n",
    "import numpy as np \n",
    "%matplotlib inline \n",
    "\n",
    "# 初始化摄像头\n",
    "cap = cv2.VideoCapture(0)\n",
    "ret, frame = cap.read()\n",
    "# 存储背景图像\n",
    "cv2.imwrite('background.png', frame)\n",
    "cap.release()\n"
   ]
  },
  {
   "cell_type": "code",
   "execution_count": 13,
   "metadata": {},
   "outputs": [],
   "source": [
    "def cv_show(name,img):\n",
    "    cv2.imshow(name,img) \n",
    "    cv2.waitKey(0) \n",
    "    cv2.destroyAllWindows()"
   ]
  },
  {
   "cell_type": "code",
   "execution_count": 10,
   "metadata": {},
   "outputs": [],
   "source": [
    "cap = cv2.VideoCapture(0)\n",
    "while True:\n",
    "    ret, frame = cap.read()\n",
    "    if ret:\n",
    "        # 显示图像\n",
    "        cv2.imshow('Live Feed', frame)\n",
    "    if cv2.waitKey(1) & 0xFF == ord('q'):\n",
    "        break\n",
    "cap.release()\n",
    "cv2.destroyAllWindows()\n"
   ]
  },
  {
   "cell_type": "code",
   "execution_count": 11,
   "metadata": {},
   "outputs": [],
   "source": [
    "gray = cv2.cvtColor(frame, cv2.COLOR_BGR2GRAY)  # 转换为灰度图\n",
    "ret, binary_pig = cv2.threshold(gray, 0, 255, cv2.THRESH_BINARY + cv2.THRESH_OTSU)  # Otsu分割\n"
   ]
  },
  {
   "cell_type": "code",
   "execution_count": 17,
   "metadata": {},
   "outputs": [
    {
     "ename": "NameError",
     "evalue": "name 'Image1' is not defined",
     "output_type": "error",
     "traceback": [
      "\u001b[1;31m---------------------------------------------------------------------------\u001b[0m",
      "\u001b[1;31mNameError\u001b[0m                                 Traceback (most recent call last)",
      "Cell \u001b[1;32mIn[17], line 1\u001b[0m\n\u001b[1;32m----> 1\u001b[0m cv_show(\u001b[43mImage1\u001b[49m,gray)\n\u001b[0;32m      2\u001b[0m \u001b[38;5;66;03m#cv2.show(Image2,binary_pig)\u001b[39;00m\n",
      "\u001b[1;31mNameError\u001b[0m: name 'Image1' is not defined"
     ]
    }
   ],
   "source": [
    "cv_show(Image1,gray)\n",
    "#cv2.show(Image2,binary_pig)"
   ]
  },
  {
   "cell_type": "code",
   "execution_count": 4,
   "metadata": {},
   "outputs": [],
   "source": [
    "background = cv2.imread('background.png', cv2.IMREAD_GRAYSCALE)  # 读取背景图像\n",
    "diff = cv2.absdiff(gray, background)  # 图像差分\n",
    "ret, binary_diff = cv2.threshold(diff, 50, 255, cv2.THRESH_BINARY)  # 二值化\n"
   ]
  },
  {
   "cell_type": "code",
   "execution_count": 5,
   "metadata": {},
   "outputs": [],
   "source": [
    "binary_feces = cv2.absdiff(binary_diff, binary_pig)  # 提取粪尿部分\n"
   ]
  },
  {
   "cell_type": "code",
   "execution_count": 6,
   "metadata": {},
   "outputs": [],
   "source": [
    "white_pixels = cv2.countNonZero(binary_feces)  # 计算白色像素点数量\n",
    "total_pixels = binary_feces.size  # 图像总像素点数\n",
    "ratio = white_pixels / total_pixels  # 计算白色像素占比\n"
   ]
  },
  {
   "cell_type": "code",
   "execution_count": 7,
   "metadata": {},
   "outputs": [
    {
     "name": "stdout",
     "output_type": "stream",
     "text": [
      "猪舍需要清扫\n"
     ]
    }
   ],
   "source": [
    "T0 = 0.05  # 设置阈值\n",
    "if ratio < T0:\n",
    "    print(\"猪舍洁净\")\n",
    "else:\n",
    "    print(\"猪舍需要清扫\")\n"
   ]
  }
 ],
 "metadata": {
  "kernelspec": {
   "display_name": "yolov5",
   "language": "python",
   "name": "python3"
  },
  "language_info": {
   "codemirror_mode": {
    "name": "ipython",
    "version": 3
   },
   "file_extension": ".py",
   "mimetype": "text/x-python",
   "name": "python",
   "nbconvert_exporter": "python",
   "pygments_lexer": "ipython3",
   "version": "3.12.4"
  }
 },
 "nbformat": 4,
 "nbformat_minor": 2
}
